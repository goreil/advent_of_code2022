{
 "cells": [
  {
   "cell_type": "markdown",
   "id": "6eef0abd-b9d0-4f77-b82c-d680e100d786",
   "metadata": {},
   "source": [
    "## Example for HappyFalcon22"
   ]
  },
  {
   "cell_type": "code",
   "execution_count": 15,
   "id": "9e4a4a88-db22-4f58-9426-41dc73d45459",
   "metadata": {},
   "outputs": [],
   "source": [
    "\n",
    "secret = vector(ZZ, [50,20])\n",
    "\n",
    "mat = Matrix(ZZ, [[1000000,200000],[1000,3000]])\n",
    "\n",
    "secret * mat\n",
    "b = mat * secret"
   ]
  },
  {
   "cell_type": "markdown",
   "id": "a41aa640-a21e-44a4-b08b-9c4c6b505fed",
   "metadata": {},
   "source": [
    "So we defined that $mat \\cdot secret = b$"
   ]
  },
  {
   "cell_type": "code",
   "execution_count": 17,
   "id": "d472d161-3f0d-4b4b-b6b8-43b4cce1ed94",
   "metadata": {},
   "outputs": [
    {
     "data": {
      "text/plain": [
       "True"
      ]
     },
     "execution_count": 17,
     "metadata": {},
     "output_type": "execute_result"
    }
   ],
   "source": [
    "mat.solve_right(b) == secret"
   ]
  },
  {
   "cell_type": "markdown",
   "id": "a00ddd6e-bcc5-4571-bb4a-e86748432c55",
   "metadata": {},
   "source": [
    "## Adding error term\n",
    "If we add a slight error term, then the solution changes slightly"
   ]
  },
  {
   "cell_type": "code",
   "execution_count": 18,
   "id": "dd88b380-aba4-4b63-b551-0f53879c298e",
   "metadata": {},
   "outputs": [
    {
     "data": {
      "text/plain": [
       "(49.9999785714209, 20.0000071428597)"
      ]
     },
     "execution_count": 18,
     "metadata": {},
     "output_type": "execute_result"
    }
   ],
   "source": [
    "mat[0,1] += 1\n",
    "mat = mat.change_ring(RR)\n",
    "mat.solve_right(b)"
   ]
  },
  {
   "cell_type": "markdown",
   "id": "1ec553f3-be22-4808-80a7-c3de07fd4c78",
   "metadata": {},
   "source": [
    "So if we round, we get the correct answer"
   ]
  },
  {
   "cell_type": "code",
   "execution_count": 22,
   "id": "8e539fad-24c6-42f3-be29-b2ff4bfdcb73",
   "metadata": {},
   "outputs": [
    {
     "data": {
      "text/plain": [
       "[50, 20]"
      ]
     },
     "execution_count": 22,
     "metadata": {},
     "output_type": "execute_result"
    }
   ],
   "source": [
    "[round(x) for x in (mat.solve_right(b))]"
   ]
  }
 ],
 "metadata": {
  "kernelspec": {
   "display_name": "SageMath 9.5",
   "language": "sage",
   "name": "sagemath"
  },
  "language_info": {
   "codemirror_mode": {
    "name": "ipython",
    "version": 3
   },
   "file_extension": ".py",
   "mimetype": "text/x-python",
   "name": "python",
   "nbconvert_exporter": "python",
   "pygments_lexer": "ipython3",
   "version": "3.10.6"
  }
 },
 "nbformat": 4,
 "nbformat_minor": 5
}
